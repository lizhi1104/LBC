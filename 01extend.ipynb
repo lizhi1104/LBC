{
 "cells": [
  {
   "cell_type": "code",
   "execution_count": 1,
   "metadata": {},
   "outputs": [],
   "source": [
    "import json\n",
    "import numpy as np\n",
    "import pandas as pd\n",
    "from gensim.models import KeyedVectors"
   ]
  },
  {
   "cell_type": "code",
   "execution_count": 2,
   "metadata": {},
   "outputs": [
    {
     "name": "stdout",
     "output_type": "stream",
     "text": [
      "9720\n"
     ]
    }
   ],
   "source": [
    "vocab = {}\n",
    "with open('Simplified_Chinese_LIWC2015_Dictionary.dic') as f:\n",
    "    for line in f.readlines()[83:]:\n",
    "        x = line.strip().split('\\t')\n",
    "        vocab[x[0]] = x[1:]\n",
    "print(len(vocab))"
   ]
  },
  {
   "cell_type": "code",
   "execution_count": 3,
   "metadata": {},
   "outputs": [
    {
     "name": "stdout",
     "output_type": "stream",
     "text": [
      "Ratio of vocab in word vectors: 0.9275720164609054\n"
     ]
    }
   ],
   "source": [
    "vectors_zhihu = KeyedVectors.load_word2vec_format('./word2vec/sgns.zhihu.word', binary=False)\n",
    "print('Ratio of vocab in word vectors:', np.mean([word in vectors_zhihu for word in vocab]))"
   ]
  },
  {
   "cell_type": "code",
   "execution_count": 4,
   "metadata": {},
   "outputs": [
    {
     "name": "stdout",
     "output_type": "stream",
     "text": [
      "Ratio of vocab in word vectors: 0.9125514403292181\n"
     ]
    }
   ],
   "source": [
    "vectors_renmin = KeyedVectors.load_word2vec_format('./word2vec/sgns.renmin.word', binary=False)\n",
    "print('Ratio of vocab in word vectors:', np.mean([word in vectors_renmin for word in vocab]))"
   ]
  },
  {
   "cell_type": "code",
   "execution_count": 5,
   "metadata": {},
   "outputs": [
    {
     "name": "stdout",
     "output_type": "stream",
     "text": [
      "Ratio of vocab in word vectors: 0.9116255144032922\n"
     ]
    }
   ],
   "source": [
    "vectors_weibo = KeyedVectors.load_word2vec_format('./word2vec/sgns.weibo.word', binary=False)\n",
    "print('Ratio of vocab in word vectors:', np.mean([word in vectors_weibo for word in vocab]))"
   ]
  },
  {
   "cell_type": "code",
   "execution_count": 6,
   "metadata": {},
   "outputs": [
    {
     "name": "stdout",
     "output_type": "stream",
     "text": [
      "Ratio of vocab in word vectors: 0.9189300411522634\n"
     ]
    }
   ],
   "source": [
    "vectors_literature = KeyedVectors.load_word2vec_format('./word2vec/sgns.literature.word', binary=False)\n",
    "print('Ratio of vocab in word vectors:', np.mean([word in vectors_literature for word in vocab]))"
   ]
  },
  {
   "cell_type": "code",
   "execution_count": 7,
   "metadata": {},
   "outputs": [
    {
     "name": "stdout",
     "output_type": "stream",
     "text": [
      "Ratio of vocab in word vectors: 0.9096707818930041\n"
     ]
    }
   ],
   "source": [
    "vectors_wiki = KeyedVectors.load_word2vec_format('./word2vec/sgns.wiki.word', binary=False)\n",
    "print('Ratio of vocab in word vectors:', np.mean([word in vectors_wiki for word in vocab]))"
   ]
  },
  {
   "cell_type": "code",
   "execution_count": 8,
   "metadata": {},
   "outputs": [
    {
     "name": "stdout",
     "output_type": "stream",
     "text": [
      "Ratio of vocab in word vectors: 0.9180041152263374\n"
     ]
    }
   ],
   "source": [
    "vectors_sogou = KeyedVectors.load_word2vec_format('./word2vec/sgns.sogou.word', binary=False)\n",
    "print('Ratio of vocab in word vectors:', np.mean([word in vectors_sogou for word in vocab]))"
   ]
  },
  {
   "cell_type": "code",
   "execution_count": 9,
   "metadata": {},
   "outputs": [
    {
     "name": "stdout",
     "output_type": "stream",
     "text": [
      "Ratio of vocab in word vectors: 0.931275720164609\n"
     ]
    }
   ],
   "source": [
    "vectors_baidu = KeyedVectors.load_word2vec_format('./word2vec/sgns.baidu.word', binary=False)\n",
    "print('Ratio of vocab in word vectors:', np.mean([word in vectors_baidu for word in vocab]))"
   ]
  },
  {
   "cell_type": "code",
   "execution_count": 10,
   "metadata": {},
   "outputs": [],
   "source": [
    "def get_enrich_words(word_vectors, vocab, topn):\n",
    "    enrich = {}\n",
    "    for word in vocab:\n",
    "        if word in word_vectors:\n",
    "            enrich[word] = word_vectors.most_similar(word, topn=topn)\n",
    "    return enrich"
   ]
  },
  {
   "cell_type": "code",
   "execution_count": 11,
   "metadata": {},
   "outputs": [],
   "source": [
    "def get_extended_words(topn, vocab):\n",
    "    vector_names = ['zhihu', 'renmin', 'weibo', 'literature', 'wiki', 'sogou', 'baidu']\n",
    "    vector_list = [vectors_zhihu, vectors_renmin, vectors_weibo, vectors_literature,\n",
    "                   vectors_wiki, vectors_sogou, vectors_baidu]\n",
    "    for i in range(len(vector_list)):\n",
    "        name = vector_names[i]\n",
    "        vector = vector_list[i]\n",
    "        print('Searching in {}'.format(name))\n",
    "        extended = get_enrich_words(vector, vocab, topn)\n",
    "        num_new_words = sum([len(extended[word]) for word in extended])\n",
    "        print('New words: ', num_new_words)\n",
    "        with open(\"./extended_vocab/extended_{}_{}.json\".format(name, topn), \"w\") as f:\n",
    "            f.write(json.dumps(extended))"
   ]
  },
  {
   "cell_type": "code",
   "execution_count": 12,
   "metadata": {},
   "outputs": [
    {
     "name": "stdout",
     "output_type": "stream",
     "text": [
      "Searching in zhihu\n",
      "New words:  901600\n",
      "Searching in renmin\n",
      "New words:  887000\n",
      "Searching in weibo\n",
      "New words:  886100\n",
      "Searching in literature\n",
      "New words:  893200\n",
      "Searching in wiki\n",
      "New words:  884200\n",
      "Searching in sogou\n",
      "New words:  892300\n",
      "Searching in baidu\n",
      "New words:  905200\n"
     ]
    }
   ],
   "source": [
    "get_extended_words(100, vocab)"
   ]
  },
  {
   "cell_type": "code",
   "execution_count": null,
   "metadata": {},
   "outputs": [],
   "source": []
  },
  {
   "cell_type": "code",
   "execution_count": null,
   "metadata": {},
   "outputs": [],
   "source": []
  }
 ],
 "metadata": {
  "kernelspec": {
   "display_name": "Python 3",
   "language": "python",
   "name": "python3"
  },
  "language_info": {
   "codemirror_mode": {
    "name": "ipython",
    "version": 3
   },
   "file_extension": ".py",
   "mimetype": "text/x-python",
   "name": "python",
   "nbconvert_exporter": "python",
   "pygments_lexer": "ipython3",
   "version": "3.7.5"
  }
 },
 "nbformat": 4,
 "nbformat_minor": 2
}
